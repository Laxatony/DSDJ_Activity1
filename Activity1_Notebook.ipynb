{
 "cells": [
  {
   "cell_type": "markdown",
   "metadata": {},
   "source": [
    "# Understanding and Predicting Employee Turnover\n",
    "\n",
    "## HR Analytics\n",
    "***"
   ]
  },
  {
   "cell_type": "markdown",
   "metadata": {},
   "source": [
    "## Table of Contents\n",
    "### The Problem\n",
    "- [Why is Employee Turnover a Problem?](#problem)\n",
    "\n",
    "### Data Quality Check\n",
    "- [Simple Inspection of Data](#datacleaning)\n",
    "\n",
    "### Descriptive Statistics\n",
    "- [Summary Statistics, Turnover Rate, Size of Data](#descriptive_statistics)\n",
    "- [Correlation Matrix](#correlation_matrix)\n",
    "\n",
    "### Exploratory Data Analysis\n",
    "- [Employee Satisfaction, Evaluation, and Project Count Distribution](#eda1)\n",
    "- [Employee Satisfaction VS Evaluation](#eda2)\n",
    "- [K Means Clustering of Employee](#clustering)\n",
    "- [Employee Satisfaction Distribution](#satisfaction)\n",
    "- [Employee Project Count Distribution](#project_count)\n",
    "- [Employee Average Monthly Hours Distribution](#avghours)\n",
    "\n",
    "### Simple Pre-Processing\n",
    "- [Pre-Processing: Categorical and Numerical Variable](#pre_processing)\n",
    "\n",
    "### Class Imbalance\n",
    "- [How to Treat Class Imbalance Problems](#class_imbalance)\n",
    "\n",
    "### Split Train/Test Set\n",
    "- [Splitting the Data into Train/Test Sets](#train_test_split)\n",
    "\n",
    "### Resample Techniques to Treat Imbalance Data\n",
    "- [Evaluate Original, Upsampled, and Downsampled Data Metrics](#resample)\n",
    "- [Choose Which Sampling Technique to Use For Model - Upsampling](#upsampling)\n",
    "\n",
    "### Train/Test Model Perfomance with 5-Fold CV\n",
    "- [Logistic Regression Classifier](#lr)\n",
    "- [Random Forest Classifier](#rf)\n",
    "- [Support Vector Classifier](#svc)\n",
    "\n",
    "### Evaluation Metric (F1 Score & ROC/AUC)\n",
    "- [ROC and AUC](#roc)\n",
    "- [Feature Importance](#feature_importance)\n",
    "\n",
    "### Conclusion\n",
    "- [Retention Plan](#retention_plan)\n",
    "\n",
    "\n"
   ]
  },
  {
   "cell_type": "markdown",
   "metadata": {},
   "source": [
    "***\n",
    "### Objective: \n",
    "- To understand what factors contributed most to employee turnover.\n",
    "\n",
    "- To perform clustering to find any meaningful patterns of employee traits.\n",
    "\n",
    "- To create a model that predicts the likelihood if a certain employee will leave the company or not. \n",
    "\n",
    "- To create or improve different retention strategies on targeted employees. \n",
    "\n",
    "The implementation of this model will allow management to create better decision-making actions.\n"
   ]
  },
  {
   "cell_type": "markdown",
   "metadata": {},
   "source": [
    "<a id='problem'></a>\n",
    "### The Problem:\n",
    "\n",
    "One of the most common problems at work is **turnover.** \n",
    "\n",
    "Replacing a worker earning about **50,000 dollars** cost the company about **10,000 dollars** or 20% of that worker’s yearly income according to the Center of American Progress.\n",
    "\n",
    "Replacing a high-level employee can cost multiple of that...\n",
    "\n",
    "**Cost include:**\n",
    "- Cost of off-boarding \n",
    "- Cost of hiring (advertising, interviewing, hiring)\n",
    "- Cost of onboarding a new person (training, management time)\n",
    "- Lost productivity (a new person may take 1-2 years to reach the productivity of an existing person)\n",
    "\n",
    "**Annual Cost of Turnover** = (Hiring + Onboarding + Development + Unfilled Time) * (# Employees x Annual Turnover Percentage)\n",
    "\n",
    "**Annual Cost of Turnover** = (1,000 + 500) x (15,000 * 24%)\n",
    "\n",
    "**Annual Cost of Turnover)** = 1500 x 3600\n",
    "\n",
    "**Annual Cost of Turnover)** = 5400000\n"
   ]
  },
  {
   "cell_type": "markdown",
   "metadata": {},
   "source": [
    "# Import Packages\n",
    "***"
   ]
  },
  {
   "cell_type": "code",
   "execution_count": null,
   "metadata": {},
   "outputs": [],
   "source": [
    "# Import the neccessary modules for data manipulation and visual representation\n",
    "import pandas as pd\n",
    "import numpy as np\n",
    "import matplotlib.pyplot as plt\n",
    "import matplotlib as matplot\n",
    "import seaborn as sns\n",
    "%matplotlib inline"
   ]
  },
  {
   "cell_type": "markdown",
   "metadata": {},
   "source": [
    "# Read the Data\n",
    "***"
   ]
  },
  {
   "cell_type": "code",
   "execution_count": null,
   "metadata": {},
   "outputs": [],
   "source": [
    "df = pd.read_csv('HR_comma_sep.csv.txt')"
   ]
  },
  {
   "cell_type": "code",
   "execution_count": null,
   "metadata": {
    "scrolled": true
   },
   "outputs": [],
   "source": [
    "# Examine the dataset\n",
    "df.head()"
   ]
  },
  {
   "cell_type": "markdown",
   "metadata": {},
   "source": [
    "<a id='datacleaning'></a>\n",
    "# Data Quality Check\n",
    "***"
   ]
  },
  {
   "cell_type": "code",
   "execution_count": null,
   "metadata": {},
   "outputs": [],
   "source": [
    "# Can you check to see if there are any missing values in our data set\n",
    "df.isnull().any()"
   ]
  },
  {
   "cell_type": "code",
   "execution_count": null,
   "metadata": {},
   "outputs": [],
   "source": [
    "# Rename Columns\n",
    "# Renaming certain columns for better readability\n",
    "df = df.rename(columns={'satisfaction_level': 'satisfaction', \n",
    "                        'last_evaluation': 'evaluation',\n",
    "                        'number_project': 'projectCount',\n",
    "                        'average_montly_hours': 'averageMonthlyHours',\n",
    "                        'time_spend_company': 'yearsAtCompany',\n",
    "                        'Work_accident': 'workAccident',\n",
    "                        'promotion_last_5years': 'promotion',\n",
    "                        'sales' : 'department',\n",
    "                        'left' : 'turnover'\n",
    "                        })\n",
    "\n",
    "df.head(3)"
   ]
  },
  {
   "cell_type": "code",
   "execution_count": null,
   "metadata": {},
   "outputs": [],
   "source": [
    "# Check the type of our features. Are there any data inconsistencies?\n",
    "df.dtypes"
   ]
  },
  {
   "cell_type": "markdown",
   "metadata": {},
   "source": [
    "<a id='descriptive_statistics'></a>\n",
    "# Exploratory Data Analysis\n",
    "***"
   ]
  },
  {
   "cell_type": "code",
   "execution_count": null,
   "metadata": {},
   "outputs": [],
   "source": [
    "# How many employees are in the dataset?\n",
    "df.shape"
   ]
  },
  {
   "cell_type": "code",
   "execution_count": null,
   "metadata": {},
   "outputs": [],
   "source": [
    "# Calculate the turnover rate of our company's dataset. What's the rate of turnover?\n",
    "turnover_rate = df.turnover.value_counts() / 14999\n",
    "turnover_rate"
   ]
  },
  {
   "cell_type": "code",
   "execution_count": null,
   "metadata": {},
   "outputs": [],
   "source": [
    "# Display the statistical overview of the employees\n",
    "df.describe()"
   ]
  },
  {
   "cell_type": "code",
   "execution_count": null,
   "metadata": {},
   "outputs": [],
   "source": [
    "# Display the mean summary of Employees (Turnover V.S. Non-turnover). What do you notice between the groups?\n",
    "turnover_Summary = df.groupby('turnover')\n",
    "turnover_Summary.mean()"
   ]
  },
  {
   "cell_type": "markdown",
   "metadata": {},
   "source": [
    "<a id='correlation_matrix'></a>\n",
    "### Correlation Matrix"
   ]
  },
  {
   "cell_type": "code",
   "execution_count": null,
   "metadata": {},
   "outputs": [],
   "source": [
    "# Create a correlation matrix. What features correlate the most with turnover? What other correlations did you find?\n",
    "corr = df.corr()\n",
    "corr = (corr)\n",
    "sns.heatmap(corr, \n",
    "            xticklabels=corr.columns.values,\n",
    "            yticklabels=corr.columns.values)\n",
    "plt.title('Heatmap of Correlation Matrix')\n",
    "corr"
   ]
  },
  {
   "cell_type": "markdown",
   "metadata": {},
   "source": [
    "<a id='eda1'></a>\n",
    "# EDA 1. \n",
    "## Distribution of Satisfaction, Evaluation, and Project Count"
   ]
  },
  {
   "cell_type": "code",
   "execution_count": null,
   "metadata": {},
   "outputs": [],
   "source": [
    "# Plot the distribution of Employee Satisfaction, Evaluation, and Project Count. What story can you tell?\n",
    "\n",
    "# Set up the matplotlib figure\n",
    "f, axes = plt.subplots(ncols=3, figsize=(15, 6))\n",
    "\n",
    "# Graph Employee Satisfaction\n",
    "sns.distplot(df.satisfaction, kde=False, color=\"g\", ax=axes[0]).set_title('Employee Satisfaction Distribution')\n",
    "axes[0].set_ylabel('Employee Count')\n",
    "\n",
    "# Graph Employee Evaluation\n",
    "sns.distplot(df.evaluation, kde=False, color=\"r\", ax=axes[1]).set_title('Employee Evaluation Distribution')\n",
    "axes[1].set_ylabel('Employee Count')\n",
    "\n",
    "# Graph Employee Average Monthly Hours\n",
    "sns.distplot(df.averageMonthlyHours, kde=False, color=\"b\", ax=axes[2]).set_title('Employee Average Monthly Hours Distribution')\n",
    "axes[2].set_ylabel('Employee Count')"
   ]
  },
  {
   "cell_type": "markdown",
   "metadata": {},
   "source": [
    "<a id='eda2'></a>\n",
    "# EDA 2.\n",
    "## Satisfaction VS Evaluation\n",
    "\n",
    "- There are **3** distinct clusters for employees who left the company\n",
    " \n",
    "**Cluster 1 (Hard-working and Sad Employee):** Satisfaction was below 0.2 and evaluations were greater than 0.75. Which could be a good indication that employees who left the company were good workers but felt horrible at their job. \n",
    " - **Question:** What could be the reason for feeling so horrible when you are highly evaluated? Could it be working too hard? Could this cluster mean employees who are \"overworked\"?\n",
    "\n",
    "**Cluster 2 (Bad and Sad Employee):** Satisfaction between about 0.35~0.45 and evaluations below ~0.58. This could be seen as employees who were badly evaluated and felt bad at work.\n",
    " - **Question:** Could this cluster mean employees who \"under-performed\"?\n",
    "\n",
    "**Cluster 3 (Hard-working and Happy Employee):** Satisfaction between 0.7~1.0 and evaluations were greater than 0.8. Which could mean that employees in this cluster were \"ideal\". They loved their work and were evaluated highly for their performance. \n",
    " - **Question:** Could this cluser mean that employees left because they found another job opportunity?"
   ]
  },
  {
   "cell_type": "code",
   "execution_count": null,
   "metadata": {
    "scrolled": true
   },
   "outputs": [],
   "source": [
    "sns.lmplot(x='satisfaction', y='evaluation', data=df,\n",
    "           fit_reg=False, # No regression line\n",
    "           hue='turnover')   # Color by evolution stage"
   ]
  },
  {
   "cell_type": "markdown",
   "metadata": {},
   "source": [
    "<a id='clustering'></a>\n",
    "##  K-Means Clustering of Employee Turnover\n",
    "***\n",
    "**Cluster 1 (Blue):** Hard-working and Sad Employees\n",
    "\n",
    "**Cluster 2 (Red):** Bad and Sad Employee \n",
    "\n",
    "**Cluster 3 (Green):** Hard-working and Happy Employee "
   ]
  },
  {
   "cell_type": "code",
   "execution_count": null,
   "metadata": {
    "scrolled": true
   },
   "outputs": [],
   "source": [
    "# Import KMeans Model\n",
    "from sklearn.cluster import KMeans\n",
    "\n",
    "# Graph and create 3 clusters of Employee Turnover\n",
    "kmeans = KMeans(n_clusters=3,random_state=2)\n",
    "kmeans.fit(df[df.turnover==1][[\"satisfaction\",\"evaluation\"]])\n",
    "\n",
    "kmeans_colors = ['green' if c == 0 else 'blue' if c == 2 else 'red' for c in kmeans.labels_]\n",
    "\n",
    "fig = plt.figure(figsize=(10, 6))\n",
    "plt.scatter(x=\"satisfaction\",y=\"evaluation\", data=df[df.turnover==1],\n",
    "            alpha=0.25,color = kmeans_colors)\n",
    "plt.xlabel(\"Satisfaction\")\n",
    "plt.ylabel(\"Evaluation\")\n",
    "plt.scatter(x=kmeans.cluster_centers_[:,0],y=kmeans.cluster_centers_[:,1],color=\"black\",marker=\"X\",s=100)\n",
    "plt.title(\"Clusters of Employee Turnover\")\n",
    "plt.show()"
   ]
  },
  {
   "cell_type": "markdown",
   "metadata": {},
   "source": [
    "<a id='satisfaction'></a>\n",
    "# EDA 3. Employee Satisfaction\n",
    "\n",
    "There is a **tri-modal** distribution for employees that turnovered\n",
    "- Employees who had really low satisfaction levels **(0.2 or less)** left the company more\n",
    "- Employees who had low satisfaction levels **(0.3~0.5)** left the company more\n",
    "- Employees who had really high satisfaction levels **(0.7 or more)** left the company more"
   ]
  },
  {
   "cell_type": "code",
   "execution_count": null,
   "metadata": {},
   "outputs": [],
   "source": [
    "#KDEPlot: Kernel Density Estimate Plot\n",
    "fig = plt.figure(figsize=(15,4))\n",
    "ax=sns.kdeplot(df.loc[(df['turnover'] == 0),'satisfaction'] , color='b',shade=True, label='no turnover')\n",
    "ax=sns.kdeplot(df.loc[(df['turnover'] == 1),'satisfaction'] , color='r',shade=True, label='turnover')\n",
    "plt.title('Employee Satisfaction Distribution - Turnover V.S. No Turnover')"
   ]
  },
  {
   "cell_type": "markdown",
   "metadata": {},
   "source": [
    "<a id='project_count'></a>\n",
    "# EDA 4. Employee Project Count \n",
    "\n",
    "Summary: \n",
    "- More than half of the employees with **2,6, and 7** projects left the company\n",
    "- Majority of the employees who did not leave the company had **3,4, and 5** projects\n",
    "- All of the employees with **7** projects left the company\n",
    "- There is an increase in employee turnover rate as project count increases"
   ]
  },
  {
   "cell_type": "code",
   "execution_count": null,
   "metadata": {
    "scrolled": false
   },
   "outputs": [],
   "source": [
    "ax = sns.barplot(x=\"projectCount\", y=\"projectCount\", hue=\"turnover\", data=df, estimator=lambda x: len(x) / len(df) * 100)\n",
    "ax.set(ylabel=\"Percent\")"
   ]
  },
  {
   "cell_type": "markdown",
   "metadata": {},
   "source": [
    "<a id='avghours'></a>\n",
    "# EDA 5. Average Monthly Hours\n",
    "\n",
    "**Summary:** \n",
    " - A bi-modal distribution for employees that turnovered \n",
    " - Employees who had less hours of work **(~150hours or less)** left the company more\n",
    " - Employees who had too many hours of work **(~250 or more)** left the company \n",
    " - Employees who left generally were **underworked** or **overworked**.\n"
   ]
  },
  {
   "cell_type": "code",
   "execution_count": null,
   "metadata": {},
   "outputs": [],
   "source": [
    "#KDEPlot: Kernel Density Estimate Plot\n",
    "fig = plt.figure(figsize=(15,4))\n",
    "ax=sns.kdeplot(df.loc[(df['turnover'] == 0),'averageMonthlyHours'] , color='b',shade=True, label='no turnover')\n",
    "ax=sns.kdeplot(df.loc[(df['turnover'] == 1),'averageMonthlyHours'] , color='r',shade=True, label='turnover')\n",
    "ax.set(xlabel='Employee Average Monthly Hours', ylabel='Frequency')\n",
    "plt.title('Employee AverageMonthly Hours Distribution - Turnover V.S. No Turnover')"
   ]
  },
  {
   "cell_type": "markdown",
   "metadata": {},
   "source": [
    "<a id='pre_processing'></a>\n",
    "# Pre-processing \n",
    "***\n",
    "\n",
    "- Apply **get_dummies()** to the categorical variables.\n",
    "- Seperate categorical variables and numeric variables, then combine them."
   ]
  },
  {
   "cell_type": "code",
   "execution_count": null,
   "metadata": {
    "scrolled": false
   },
   "outputs": [],
   "source": [
    "cat_var = ['department','salary','turnover','promotion']\n",
    "num_var = ['satisfaction','evaluation','projectCount','averageMonthlyHours','yearsAtCompany', 'workAccident']\n",
    "categorical_df = pd.get_dummies(df[cat_var], drop_first=True)\n",
    "numerical_df = df[num_var]\n",
    "\n",
    "new_df = pd.concat([categorical_df,numerical_df], axis=1)\n",
    "new_df.head()"
   ]
  },
  {
   "cell_type": "markdown",
   "metadata": {},
   "source": [
    "<a id='class_imbalance'></a>\n",
    "# Class Imbalance\n",
    "\n",
    "### Employee Turnover Rate: 24%"
   ]
  },
  {
   "cell_type": "code",
   "execution_count": null,
   "metadata": {},
   "outputs": [],
   "source": [
    "df.turnover.value_counts(1)"
   ]
  },
  {
   "cell_type": "code",
   "execution_count": null,
   "metadata": {
    "scrolled": false
   },
   "outputs": [],
   "source": [
    "plt.figure(figsize=(12,8))\n",
    "turnover = df.turnover.value_counts()\n",
    "sns.barplot(y=turnover.values, x=turnover.index, alpha=0.6)\n",
    "plt.title('Distribution of Employee Turnover')\n",
    "plt.xlabel('Employee Turnover', fontsize=16)\n",
    "plt.ylabel('Count', fontsize=16)"
   ]
  },
  {
   "cell_type": "markdown",
   "metadata": {},
   "source": [
    "# How to Treat Imbalanced Datasets\n",
    "\n",
    "There are many ways of dealing with imbalanced data. We will focus in the following approaches:\n",
    "\n",
    "1. Oversampling — SMOTE\n",
    "2. Undersampling — RandomUnderSampler"
   ]
  },
  {
   "cell_type": "markdown",
   "metadata": {},
   "source": [
    "<a id='train_test_split'></a>\n",
    "# Split Train/Test Set\n",
    "***\n",
    "\n",
    "Let's split our data into a train and test set. We'll fit our model with the train set and leave our test set for our last evaluation."
   ]
  },
  {
   "cell_type": "code",
   "execution_count": null,
   "metadata": {},
   "outputs": [],
   "source": [
    "from sklearn.model_selection import train_test_split\n",
    "from sklearn.metrics import accuracy_score, classification_report, precision_score, recall_score, confusion_matrix, precision_recall_curve\n",
    "\n",
    "# Create the X and y set\n",
    "X = new_df.iloc[:,1:]\n",
    "y = new_df.iloc[:,0]\n",
    "\n",
    "# Define train and test\n",
    "X_train, X_test, y_train, y_test = train_test_split(X,y,test_size=0.20, random_state=123, stratify=y)"
   ]
  },
  {
   "cell_type": "markdown",
   "metadata": {},
   "source": [
    "<a id='resample'></a>\n",
    "# Resample Methods\n",
    "\n",
    "Let's train a base logistic regression model on the three types of samples to see which yields the best result:\n",
    "1. **Orginal Sample**\n",
    "2. **Upsampling Data**\n",
    "3. **Downsampling Data**"
   ]
  },
  {
   "cell_type": "code",
   "execution_count": null,
   "metadata": {},
   "outputs": [],
   "source": [
    "from sklearn.utils import resample\n",
    "\n",
    "# Upsample minority class\n",
    "X_train_u, y_train_u = resample(X_train[y_train == 1],\n",
    "                                y_train[y_train == 1],\n",
    "                                replace=True,\n",
    "                                n_samples=X_train[y_train == 0].shape[0],\n",
    "                                random_state=1)\n",
    "\n",
    "X_train_u = np.concatenate((X_train[y_train == 0], X_train_u))\n",
    "y_train_u = np.concatenate((y_train[y_train == 0], y_train_u))\n",
    "\n",
    "\n",
    "# Downsample majority class\n",
    "X_train_d, y_train_d = resample(X_train[y_train == 0],\n",
    "                                y_train[y_train == 0],\n",
    "                                replace=True,\n",
    "                                n_samples=X_train[y_train == 1].shape[0],\n",
    "                                random_state=1)\n",
    "X_train_d = np.concatenate((X_train[y_train == 1], X_train_d))\n",
    "y_train_d = np.concatenate((y_train[y_train == 1], y_train_d))\n",
    "\n",
    "\n",
    "print(\"Original shape:\", X_train.shape, y_train.shape)\n",
    "print(\"Upsampled shape:\", X_train_u.shape, y_train_u.shape)\n",
    "print(\"Downsampled shape:\", X_train_d.shape, y_train_d.shape)"
   ]
  },
  {
   "cell_type": "markdown",
   "metadata": {},
   "source": [
    "<a id='upsampling'></a>\n",
    "# Choose Which Sampling Technique to Use For Model\n",
    "***"
   ]
  },
  {
   "cell_type": "markdown",
   "metadata": {},
   "source": [
    "### Apply 10-Fold Cross Validation for Logistic Regression\n",
    "#### Train on Original, Unsampled, and Downsampled Data\n",
    "\n",
    "**Objective**:Train our Logistic Regression Model to our **original, upsampled, and downsampled data** to see which performs best. \n",
    "\n",
    "**Resut:**\n",
    "- **Original Sample**: F1 Score 44.96%\n",
    "- **Upsample:** F1 Score 77.93%\n",
    "- **Downsample:** F1 Score 77.85%\n",
    "\n",
    "**Upsampling gives us the best performance**"
   ]
  },
  {
   "cell_type": "code",
   "execution_count": null,
   "metadata": {},
   "outputs": [],
   "source": [
    "from sklearn.linear_model import LogisticRegression\n",
    "from sklearn.pipeline import make_pipeline\n",
    "from sklearn.preprocessing import StandardScaler\n",
    "from sklearn.model_selection import cross_val_score\n",
    "\n",
    "# Create the Original, Upsampled, and Downsampled training sets\n",
    "methods_data = {\"Original\": (X_train, y_train),\n",
    "                \"Upsampled\": (X_train_u, y_train_u),\n",
    "                \"Downsampled\": (X_train_d, y_train_d)}\n",
    "\n",
    "# Loop through each type of training sets and apply 5-Fold CV using Logistic Regression\n",
    "# By default in cross_val_score StratifiedCV is used\n",
    "for method in methods_data.keys():\n",
    "    lr_results = cross_val_score(LogisticRegression(), methods_data[method][0], methods_data[method][1], cv=5, scoring='f1')\n",
    "    print(f\"The best F1 Score for {method} data:\")\n",
    "    print (lr_results.mean())\n",
    " "
   ]
  },
  {
   "cell_type": "markdown",
   "metadata": {},
   "source": [
    "# Train Three Models\n",
    "***\n",
    "\n",
    "1. Logistic Regression\n",
    "2. Random Forest\n",
    "3. Support Vector Machine"
   ]
  },
  {
   "cell_type": "markdown",
   "metadata": {},
   "source": [
    "<a id='lr'></a>\n",
    "# Test Logistic Regression Performance\n",
    "### Logistic Regression F1 Score (0.78)"
   ]
  },
  {
   "cell_type": "code",
   "execution_count": null,
   "metadata": {
    "scrolled": true
   },
   "outputs": [],
   "source": [
    "from sklearn.metrics import roc_auc_score\n",
    "\n",
    "lr = LogisticRegression()\n",
    "\n",
    "# Fit the model to the Upsampling data\n",
    "lr = lr.fit(X_train_u, y_train_u)\n",
    "\n",
    "print (\"\\n\\n ---Logistic Regression Model---\")\n",
    "lr_auc = roc_auc_score(y_test, lr.predict(X_test))\n",
    "\n",
    "print (\"Logistic Regression AUC = %2.2f\" % lr_auc)\n",
    "\n",
    "print(classification_report(y_test, lr.predict(X_test)))"
   ]
  },
  {
   "cell_type": "markdown",
   "metadata": {},
   "source": [
    "<a id='rf'></a>\n",
    "# Random Forest Classifier \n",
    "***"
   ]
  },
  {
   "cell_type": "markdown",
   "metadata": {},
   "source": [
    "Notice how the random forest classifier takes a while to run on the dataset. That is one downside to the algorithm, it takes a lot of computation. But it has a better performance than the sipler models like Logistic Regression"
   ]
  },
  {
   "cell_type": "markdown",
   "metadata": {},
   "source": [
    "### Apply 5-Fold Cross Validation for Random Forest"
   ]
  },
  {
   "cell_type": "code",
   "execution_count": null,
   "metadata": {
    "scrolled": true
   },
   "outputs": [],
   "source": [
    "from sklearn.ensemble import RandomForestClassifier\n",
    "\n",
    "# Random Forest Model\n",
    "rf = RandomForestClassifier()\n",
    "\n",
    "rf_result = cross_val_score(rf, X_train_u, y_train_u, cv=5, scoring='f1')\n",
    "\n",
    "rf_result.mean()"
   ]
  },
  {
   "cell_type": "markdown",
   "metadata": {},
   "source": [
    "### Random Forest F1 Score (0.99)"
   ]
  },
  {
   "cell_type": "code",
   "execution_count": null,
   "metadata": {
    "scrolled": false
   },
   "outputs": [],
   "source": [
    "from sklearn.metrics import roc_auc_score\n",
    "\n",
    "rf = rf.fit(X_train_u, y_train_u)\n",
    "\n",
    "print (\"\\n\\n ---Random Forest Model---\")\n",
    "rf_roc_auc = roc_auc_score(y_test, rf.predict(X_test))\n",
    "print (\"Random Forest AUC = %2.2f\" % rf_roc_auc)\n",
    "print(classification_report(y_test, rf.predict(X_test)))"
   ]
  },
  {
   "cell_type": "markdown",
   "metadata": {},
   "source": [
    "<a id='svc'></a>\n",
    "# Gradient Boosting Classifier\n"
   ]
  },
  {
   "cell_type": "code",
   "execution_count": null,
   "metadata": {},
   "outputs": [],
   "source": [
    "from sklearn.ensemble import GradientBoostingClassifier"
   ]
  },
  {
   "cell_type": "code",
   "execution_count": null,
   "metadata": {},
   "outputs": [],
   "source": [
    "gbc = GradientBoostingClassifier()  \n",
    "\n",
    "gbc = gbc.fit(X_train_u,y_train_u)\n",
    "\n",
    "gbc"
   ]
  },
  {
   "cell_type": "markdown",
   "metadata": {},
   "source": [
    "### Apply 5-Fold Cross Validation for Gradient Boosting Classifier"
   ]
  },
  {
   "cell_type": "code",
   "execution_count": null,
   "metadata": {
    "scrolled": true
   },
   "outputs": [],
   "source": [
    "gbc_result = cross_val_score(gbc, X_train_u, y_train_u, cv=5, scoring='f1')\n",
    "gbc_result.mean()"
   ]
  },
  {
   "cell_type": "markdown",
   "metadata": {},
   "source": [
    "### Gradient Boosting Classifier F1 Score (0.94)"
   ]
  },
  {
   "cell_type": "code",
   "execution_count": null,
   "metadata": {},
   "outputs": [],
   "source": [
    "from sklearn.metrics import roc_auc_score\n",
    "\n",
    "print (\"\\n\\n ---Gradient Boosting Model---\")\n",
    "gbc_auc = roc_auc_score(y_test, gbc.predict(X_test))\n",
    "print (\"Gradient Boosting Classifier AUC = %2.2f\" % gbc_auc)\n",
    "print(classification_report(y_test, gbc.predict(X_test)))"
   ]
  },
  {
   "cell_type": "markdown",
   "metadata": {},
   "source": [
    "<a id='roc'></a>\n",
    "# ROC Graph"
   ]
  },
  {
   "cell_type": "code",
   "execution_count": null,
   "metadata": {
    "scrolled": true
   },
   "outputs": [],
   "source": [
    "rf.predict_proba(X_test)"
   ]
  },
  {
   "cell_type": "code",
   "execution_count": null,
   "metadata": {
    "scrolled": true
   },
   "outputs": [],
   "source": [
    "# Create ROC Graph\n",
    "from sklearn.metrics import roc_curve\n",
    "fpr, tpr, thresholds = roc_curve(y_test, lr.predict_proba(X_test)[:,1])\n",
    "rf_fpr, rf_tpr, rf_thresholds = roc_curve(y_test, rf.predict_proba(X_test)[:,1])\n",
    "gbc_fpr, gbc_tpr, gbc_thresholds = roc_curve(y_test, gbc.predict_proba(X_test)[:,1])\n",
    "\n",
    "\n",
    "plt.figure()\n",
    "\n",
    "# Plot Logistic Regression ROC\n",
    "plt.plot(fpr, tpr, label='Logistic Regression (area = %0.2f)' % lr_auc)\n",
    "\n",
    "# Plot Random Forest ROC\n",
    "plt.plot(rf_fpr, rf_tpr, label='Random Forest Classifier (area = %0.2f)' % rf_roc_auc)\n",
    "\n",
    "# Plot Decision Tree ROC\n",
    "plt.plot(gbc_fpr, gbc_tpr, label='Gradient Boosting Classifier (area = %0.2f)' % gbc_auc)\n",
    "\n",
    "# Plot Base Rate ROC\n",
    "plt.plot([0,1], [0,1],label='Base Rate')\n",
    "\n",
    "plt.xlim([0.0, 1.0])\n",
    "plt.ylim([0.0, 1.05])\n",
    "plt.xlabel('False Positive Rate')\n",
    "plt.ylabel('True Positive Rate')\n",
    "plt.title('ROC Graph')\n",
    "plt.legend(loc=\"lower right\")\n",
    "plt.show()"
   ]
  },
  {
   "cell_type": "markdown",
   "metadata": {},
   "source": [
    "<a id='feature_importance'></a>\n",
    "# Random Forest Feature Importances"
   ]
  },
  {
   "cell_type": "code",
   "execution_count": null,
   "metadata": {},
   "outputs": [],
   "source": [
    "# Get Feature Importances\n",
    "feature_importances = pd.DataFrame(rf.feature_importances_,\n",
    "                                   index = X_train.columns,\n",
    "                                    columns=['importance']).sort_values('importance', ascending=False)\n",
    "feature_importances = feature_importances.reset_index()\n",
    "feature_importances"
   ]
  },
  {
   "cell_type": "code",
   "execution_count": null,
   "metadata": {
    "scrolled": true
   },
   "outputs": [],
   "source": [
    "sns.set(style=\"whitegrid\")\n",
    "\n",
    "# Initialize the matplotlib figure\n",
    "f, ax = plt.subplots(figsize=(13, 7))\n",
    "\n",
    "# Plot the Feature Importance\n",
    "sns.set_color_codes(\"pastel\")\n",
    "sns.barplot(x=\"importance\", y='index', data=feature_importances,\n",
    "            label=\"Total\", color=\"b\")"
   ]
  },
  {
   "cell_type": "markdown",
   "metadata": {},
   "source": [
    "# Apply Random Noise to Feature Importance"
   ]
  },
  {
   "cell_type": "code",
   "execution_count": null,
   "metadata": {},
   "outputs": [],
   "source": [
    "# Apply Random Noise to data set\n",
    "X_train_rnoise = pd.DataFrame(X_train)\n",
    "X_train_rnoise['RANDOM_NOISE'] = np.random.normal(0, 1, X_train_rnoise.shape[0])\n",
    "\n",
    "# Fit Random Forest to DataSet\n",
    "rf_random = RandomForestClassifier()\n",
    "rf_random = rf_random.fit(X_train_rnoise, y_train)\n",
    "\n",
    "# Get Feature Importances\n",
    "feature_importances_random = pd.DataFrame(rf_random.feature_importances_, index = X_train_rnoise.columns,columns=['importance']).sort_values('importance', ascending=False)\n",
    "feature_importances_random = feature_importances_random.reset_index()\n",
    "\n",
    "# Create Seaborn PLot\n",
    "sns.set(style=\"whitegrid\")\n",
    "# Initialize the matplotlib figure\n",
    "f, ax = plt.subplots(figsize=(13, 7))\n",
    "\n",
    "\n",
    "clrs = ['red' if (x == 5 ) else 'green' for x in feature_importances_random.index.values ]\n",
    "\n",
    "# Plot the Feature Importance\n",
    "sns.barplot(x=\"importance\", y='index', data=feature_importances_random,\n",
    "            label=\"Total\",  palette=clrs)"
   ]
  },
  {
   "cell_type": "code",
   "execution_count": null,
   "metadata": {},
   "outputs": [],
   "source": [
    "X_train_rnoise.head()"
   ]
  },
  {
   "cell_type": "markdown",
   "metadata": {},
   "source": [
    "<a id='retention_plan'></a>\n",
    "# Retention Plan"
   ]
  },
  {
   "cell_type": "markdown",
   "metadata": {},
   "source": [
    "**Reference:** http://rupeshkhare.com/wp-content/uploads/2013/12/Employee-Attrition-Risk-Assessment-using-Logistic-Regression-Analysis.pdf\n",
    "\n",
    "Since this model is being used for people, we should refrain from soley relying on the output of our model. Instead, we can use it's probability output and design our own system to treat each employee accordingly. \n",
    "\n",
    "1.\t**Safe Zone (Green)** – Employees within this zone are considered safe. \n",
    "2.\t**Low Risk Zone (Yellow)** – Employees within this zone are too be taken into consideration of potential turnover. This is more of a long-term track.\n",
    "3.\t**Medium Risk Zone (Orange)** – Employees within this zone are at risk of turnover. Action should be taken and monitored accordingly. \n",
    "4.\t**High Risk Zone (Red)** – Employees within this zone are considered to have the highest chance of turnover. Action should be taken immediately. \n",
    "\n",
    "<img src=\"http://i64.tinypic.com/somk9s.jpg\"/>"
   ]
  },
  {
   "cell_type": "code",
   "execution_count": null,
   "metadata": {
    "scrolled": true
   },
   "outputs": [],
   "source": [
    "rf.predict_proba(X_test)[175:225]"
   ]
  },
  {
   "cell_type": "markdown",
   "metadata": {},
   "source": [
    "# What to Optimize\n",
    "\n",
    "We want our machine learn model to capture as much of the minority class as possible (turnover group). Our objective is to catch ALL of the highly probable turnover employee at the risk of flagging some low-risk non-turnover employee. "
   ]
  },
  {
   "cell_type": "markdown",
   "metadata": {},
   "source": [
    "## Conclusion\n",
    "**Binary Classification**: Turnover V.S. Non Turnover\n",
    "\n",
    "**Instance Scoring**: Likelihood of employee responding to an offer/incentive to save them from leaving.\n",
    "\n",
    "**Need for Application**: Save employees from leaving\n",
    "\n",
    "In our employee retention problem, rather than simply predicting whether an employee will leave the company within a certain time frame, we would much rather have an estimate of the probability that he/she will leave the company. \n",
    "We would rank employees by their probability of leaving, then allocate a limited incentive budget to the highest probability instances. \n",
    "\n",
    "Consider employee turnover domain where an employee is given treatment by Human  Resources because they think the employee will leave the company within a month, but the employee actually does not. This is a false positive. This mistake could be expensive, inconvenient, and time consuming for both the Human Resources and employee, but is a good investment for relational growth. \n",
    "\n",
    "Compare this with the opposite error, where Human Resources does not give treatment/incentives to the employees and they do leave. This is a false negative. This type of error is more detrimental because the company lost an employee, which could lead to great setbacks and more money to rehire. \n",
    "Depending on these errors, different costs are weighed based on the type of employee being treated. For example, if it’s a high-salary employee then would we need a costlier form of treatment? What if it’s a low-salary employee? The cost for each error is different and should be weighed accordingly. \n",
    " \n",
    " **Solution 1:** \n",
    " - We can rank employees by their probability of leaving, then allocate a limited incentive budget to the highest probability instances.\n",
    " - OR, we can allocate our incentive budget to the instances with the highest expected loss, for which we'll need the probability of turnover.\n",
    "\n",
    "**Solution 2:** \n",
    "Develop learning programs for managers. Then use analytics to gauge their performance and measure progress. Some advice:\n",
    " - Be a good coach\n",
    " - Empower the team and do not micromanage\n",
    " - Express interest for team member success\n",
    " - Have clear vision / strategy for team\n",
    " - Help team with career development    "
   ]
  },
  {
   "cell_type": "markdown",
   "metadata": {},
   "source": [
    "# Selection Bias\n",
    "***\n",
    "\n",
    "- One thing to note about this dataset is the turnover feature. We don't know if the employees that left are interns, contractors, full-time, or part-time. These are important variables to take into consideration when performing a machine learning algorithm to it. \n",
    "\n",
    "- Another thing to note down is the type of bias of the evaluation feature. Evaluation is heavily subjective, and can vary tremendously depending on who is the evaluator. If the employee knows the evaluator, then he/she will probably have a higher score. "
   ]
  },
  {
   "cell_type": "code",
   "execution_count": null,
   "metadata": {},
   "outputs": [],
   "source": []
  }
 ],
 "metadata": {
  "kernelspec": {
   "display_name": "Python 3",
   "language": "python",
   "name": "python3"
  },
  "language_info": {
   "codemirror_mode": {
    "name": "ipython",
    "version": 3
   },
   "file_extension": ".py",
   "mimetype": "text/x-python",
   "name": "python",
   "nbconvert_exporter": "python",
   "pygments_lexer": "ipython3",
   "version": "3.6.5"
  }
 },
 "nbformat": 4,
 "nbformat_minor": 2
}
